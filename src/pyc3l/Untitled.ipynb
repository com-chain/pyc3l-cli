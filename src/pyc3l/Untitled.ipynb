{
 "cells": [
  {
   "cell_type": "code",
   "execution_count": 1,
   "metadata": {},
   "outputs": [],
   "source": [
    "from web3 import Web3\n",
    "from web3.eth import Eth\n",
    "from eth_account import Account\n",
    "from Crypto import Random\n",
    "from Crypto.Cipher import AES\n",
    "from Crypto.PublicKey import ECC\n",
    "from Crypto.Hash import SHA256, SHA512\n",
    "import struct\n",
    "import base64\n",
    "import hmac\n",
    "import hashlib\n"
   ]
  },
  {
   "cell_type": "code",
   "execution_count": 2,
   "metadata": {},
   "outputs": [],
   "source": [
    "BS = 16\n",
    "def pad(data):\n",
    "    padding = BS - len(data) % BS\n",
    "    return data + padding * struct.pack(\"B\", padding)\n",
    "\n",
    "def unpad(data):\n",
    "    return data[0:-data[-1]]\n",
    "\n",
    "def AES256CbcDecrypt(hex_data, key=b'0'*32, iv=b'0'*16):\n",
    "    data = bytearray.fromhex(hex_data)\n",
    "    aes = AES.new(key, AES.MODE_CBC, iv)\n",
    "    return unpad(aes.decrypt(data))\n",
    "\n",
    "def AES256CbcEncrypt(bin_data, key=b'0'*32, iv=b'0'*16):\n",
    "    aes = AES.new(key, AES.MODE_CBC, iv)\n",
    "    return aes.encrypt(pad(bin_data))"
   ]
  },
  {
   "cell_type": "code",
   "execution_count": 3,
   "metadata": {},
   "outputs": [
    {
     "name": "stdout",
     "output_type": "stream",
     "text": [
      "16\n",
      "bytearray(b'test')\n",
      "True\n"
     ]
    }
   ],
   "source": [
    "#Test pading /unpading\n",
    "start = bytearray(b'test')\n",
    "padded = pad(start)\n",
    "print(len(padded))\n",
    "unpaded = unpad(padded)\n",
    "print (unpaded)\n",
    "print (unpaded==start)"
   ]
  },
  {
   "cell_type": "code",
   "execution_count": 4,
   "metadata": {},
   "outputs": [
    {
     "name": "stdout",
     "output_type": "stream",
     "text": [
      "e4bec3c272130e40fa34f068819d8e83\n",
      "True\n",
      "test\n",
      "True\n"
     ]
    }
   ],
   "source": [
    "#Test encrypt\n",
    "hex_key = '1ac27dc3580fa322d795d54fe4b4b211980a299f924f1df267195c4f8253b700'\n",
    "key = bytearray.fromhex(hex_key)\n",
    "text ='test'\n",
    "plaintext = text.encode(encoding='utf_8') \n",
    "hex_iv='95eb6bfc4ddcd00ba1b2d63b7c26bff4'\n",
    "iv= bytearray.fromhex(hex_iv)\n",
    "\n",
    "cry = AES256CbcEncrypt(plaintext,key,iv).hex()\n",
    "print(cry)\n",
    "print(cry=='e4bec3c272130e40fa34f068819d8e83')\n",
    "\n",
    "#test decrypt\n",
    "dec = AES256CbcDecrypt(cry,key,iv)\n",
    "print(dec.decode(\"utf-8\"))\n",
    "print(dec.decode(\"utf-8\")==text)"
   ]
  },
  {
   "cell_type": "markdown",
   "metadata": {},
   "source": [
    "# Version 1"
   ]
  },
  {
   "cell_type": "code",
   "execution_count": 5,
   "metadata": {},
   "outputs": [],
   "source": [
    "def encode_key(pub_key):\n",
    "    return pub_key.pointQ.x.to_bytes(32)+ pub_key.pointQ.y.to_bytes(32)"
   ]
  },
  {
   "cell_type": "code",
   "execution_count": 6,
   "metadata": {},
   "outputs": [
    {
     "data": {
      "text/plain": [
       "True"
      ]
     },
     "execution_count": 6,
     "metadata": {},
     "output_type": "execute_result"
    }
   ],
   "source": [
    "test_encoded = (74112620180903413835928205978618879887273296202846370176989995621597768248548).to_bytes(32,byteorder='big')+(70352546531620714376440768798610125065500941604960487601320179994127409968403).to_bytes(32,byteorder='big')\n",
    "[ test_encoded[i] for i in range(len(test_encoded)) ] == [163, 218, 65, 170, 47, 136, 127, 159, 98, 77, 71, 242, 112, 244, 229, 36, 177, 2, 147, 111, 8, 233, 154, 255, 238, 244, 221, 88, 15, 2, 236, 228, 155, 138, 33, 87, 29, 185, 26, 29, 154, 176, 239, 200, 165, 137, 137, 181, 96, 137, 184, 159, 197, 133, 182, 251, 181, 179, 184, 113, 179, 141, 117, 19]"
   ]
  },
  {
   "cell_type": "code",
   "execution_count": 7,
   "metadata": {},
   "outputs": [],
   "source": [
    "def decode_key(encoded_pub_key):\n",
    "    x = encoded_pub_key[:32]\n",
    "    y = encoded_pub_key[32:]\n",
    "    return ECC.EccPoint(int.from_bytes(x,byteorder='big'), int.from_bytes(y,byteorder='big'))"
   ]
  },
  {
   "cell_type": "code",
   "execution_count": 8,
   "metadata": {},
   "outputs": [
    {
     "data": {
      "text/plain": [
       "<Crypto.PublicKey.ECC.EccPoint at 0x7f716e79f898>"
      ]
     },
     "execution_count": 8,
     "metadata": {},
     "output_type": "execute_result"
    }
   ],
   "source": [
    "ephemPrivKey = ECC.generate(curve='secp256r1')\n",
    "encoded = encode_key(ephemPrivKey.public_key())\n",
    "decode_key(encoded)"
   ]
  },
  {
   "cell_type": "code",
   "execution_count": 9,
   "metadata": {},
   "outputs": [],
   "source": [
    "def derive(private_key, pub_ecc_point):\n",
    "    return (pub_ecc_point*private_key.d).x"
   ]
  },
  {
   "cell_type": "markdown",
   "metadata": {},
   "source": [
    "---------------------------------"
   ]
  },
  {
   "cell_type": "code",
   "execution_count": 10,
   "metadata": {},
   "outputs": [],
   "source": [
    "def EncryptMessage_1(publicKey_hex, plainText_string):\n",
    "    if publicKey_hex[:2]=='0x':\n",
    "        publicKey_hex=publicKey_hex[2:]\n",
    "    \n",
    "    # Generate the temporary key \n",
    "    ephemPrivKey = ECC.generate(curve='secp256r1')\n",
    "    ephemPubKey = ephemPrivKey.public_key()\n",
    "    ephemPubKeyEncoded = encode_key(ephemPubKey)\n",
    "    \n",
    "    # Load the public key\n",
    "    publicKey = bytearray.fromhex(publicKey_hex)\n",
    "    pub = ECC.EccPoint(int.from_bytes(publicKey[:int(len(publicKey)/2)],byteorder='big'), int.from_bytes(publicKey[int(len(publicKey)/2):],byteorder='big'))\n",
    "    \n",
    "    # ECDH => get the shared secret\n",
    "    px = derive(ephemPrivKey,pub) \n",
    "    \n",
    "    # compute the encription and MAC keys\n",
    "    hash_px = SHA512.new(data=px.to_bytes()).digest()\n",
    "    encryptionKey = hash_px[:32]\n",
    "    macKey = hash_px[32:]\n",
    "    \n",
    "    # cipher the plain text\n",
    "    iv = Random.get_random_bytes(16)\n",
    "    plaintext = plainText_string.encode(encoding='utf_8') \n",
    "    ciphertext = AES256CbcEncrypt(plaintext,encryptionKey,iv)\n",
    "    \n",
    "    # compute the MAC\n",
    "    dataToMac = iv + bytearray([4])+ephemPubKeyEncoded + ciphertext\n",
    "    mac = hmac.new(macKey, dataToMac, 'sha256').digest()\n",
    "    \n",
    "    #build the output\n",
    "    serializedCiphertext = iv + bytearray([4])+ephemPubKeyEncoded + mac + ciphertext\n",
    "    return serializedCiphertext.hex()\n",
    "    "
   ]
  },
  {
   "cell_type": "code",
   "execution_count": 11,
   "metadata": {},
   "outputs": [],
   "source": [
    "def DecryptMessage_1(privateKey_hey, encrypted_hex):\n",
    "    if privateKey_hey[:2]=='0x':\n",
    "        privateKey_hey=privateKey_hey[2:]\n",
    "    if encrypted_hex[:2]=='0x':\n",
    "        encrypted_hex=encrypted_hex[2:]\n",
    "\n",
    "    # get the components \n",
    "    encrypted = bytearray.fromhex(encrypted_hex)\n",
    "    iv = encrypted[:16]\n",
    "    ephemPubKeyEncoded = encrypted[17:81]\n",
    "    mac = encrypted[81:113]\n",
    "    ciphertext = encrypted[113:]\n",
    "    \n",
    "    # recover the temporary public key\n",
    "    ephemPubKey = decode_key(ephemPubKeyEncoded)\n",
    "    \n",
    "    # load the private key\n",
    "    privKey = ECC.construct(curve='secp256r1', d=int(privateKey_hey,16))\n",
    "    \n",
    "    # ECDH => get the shared secret\n",
    "    px = derive(privKey, ephemPubKey)\n",
    "    \n",
    "    # compute the encription and MAC keys\n",
    "    hash_px = SHA512.new(data=px.to_bytes()).digest()\n",
    "    encryptionKey = hash_px[:32]\n",
    "    macKey = hash_px[32:]\n",
    "    \n",
    "    # check the MAC\n",
    "    dataToMac = iv + bytearray([4])+ephemPubKeyEncoded + ciphertext\n",
    "    computed_mac = hmac.new(macKey, dataToMac, 'sha256').digest()\n",
    "    if computed_mac!=mac:\n",
    "        raise ValueError(\"MAC missmatch\")\n",
    "        \n",
    "    #decipher the text\n",
    "    plaintext = AES256CbcDecrypt(ciphertext.hex(), encryptionKey, iv)\n",
    "    return plaintext.decode(\"utf-8\")\n",
    "    "
   ]
  },
  {
   "cell_type": "code",
   "execution_count": 12,
   "metadata": {},
   "outputs": [
    {
     "name": "stdout",
     "output_type": "stream",
     "text": [
      "0x5788560c124ec1956e650ab1b4c94ea5a456274735bb85c3f1b9daeafe57f51a\n",
      "0x960a5328e1a81e1f2bdc7777f1e5551bbde80551cbc9d7bdce46855ae3f27cd46fb0e6117a38081efeaa69f9b40c24e370f8a2828f21e9d2968c1a0cb983aa82\n"
     ]
    }
   ],
   "source": [
    "test_key_priv = ECC.generate(curve='secp256r1')\n",
    "test_key_pub = test_key_priv.public_key()\n",
    "\n",
    "priv_key_test_1 = hex(int(test_key_priv.d))\n",
    "pub_key_test_1 = hex(int(test_key_pub.pointQ.x)) + hex(int(test_key_pub.pointQ.y))[2:]\n",
    "\n",
    "print(priv_key_test_1)\n",
    "print(pub_key_test_1)"
   ]
  },
  {
   "cell_type": "code",
   "execution_count": 13,
   "metadata": {},
   "outputs": [
    {
     "name": "stdout",
     "output_type": "stream",
     "text": [
      "test\n"
     ]
    }
   ],
   "source": [
    "message = 'test'\n",
    "encrypted = EncryptMessage_1(pub_key_test_1, message)\n",
    "\n",
    "\n",
    "mm = DecryptMessage_1(priv_key_test_1, encrypted)\n",
    "print(mm)"
   ]
  },
  {
   "cell_type": "markdown",
   "metadata": {},
   "source": [
    "# Version 2"
   ]
  },
  {
   "cell_type": "code",
   "execution_count": 5,
   "metadata": {},
   "outputs": [],
   "source": [
    "from ecdsa import SigningKey, SECP256k1, ECDH, VerifyingKey\n",
    "\n"
   ]
  },
  {
   "cell_type": "code",
   "execution_count": 6,
   "metadata": {},
   "outputs": [],
   "source": [
    "def EncryptMessage_2(publicKey_hex, plainText_string):\n",
    "    if publicKey_hex[:2]=='0x':\n",
    "        publicKey_hex=publicKey_hex[2:]\n",
    "    publicKey_bin=bytearray.fromhex(publicKey_hex)\n",
    "    \n",
    "    # Generate the temporary key \n",
    "    ecdh = ECDH(curve=SECP256k1)\n",
    "    ecdh.generate_private_key()\n",
    "    \n",
    "    ephemPubKeyEncoded = bytearray.fromhex(ecdh.get_public_key().to_string().hex()) \n",
    "    \n",
    "    # Load the public key\n",
    "    publicKey = VerifyingKey.from_string(publicKey_bin, curve=SECP256k1)\n",
    "     \n",
    "    # ECDH => get the shared secret\n",
    "    ecdh.load_received_public_key(publicKey)\n",
    "        \n",
    "    px = ecdh.generate_sharedsecret_bytes()\n",
    "\n",
    "    # compute the encription and MAC keys\n",
    "    hash_px = SHA512.new(data=px).digest()\n",
    "    encryptionKey = hash_px[:32]\n",
    "    macKey = hash_px[32:]\n",
    "    \n",
    "    # cipher the plain text\n",
    "    iv = Random.get_random_bytes(16)\n",
    "    plaintext = plainText_string.encode(encoding='utf_8') \n",
    "    ciphertext = AES256CbcEncrypt(plaintext,encryptionKey,iv)\n",
    "    \n",
    "    # compute the MAC\n",
    "    dataToMac = iv + bytearray([4])+ephemPubKeyEncoded + ciphertext\n",
    "    mac = hmac.new(macKey, dataToMac, 'sha256').digest()\n",
    "    \n",
    "    #build the output\n",
    "    serializedCiphertext = iv + bytearray([4])+ephemPubKeyEncoded + mac + ciphertext\n",
    "    return serializedCiphertext.hex()\n",
    "    "
   ]
  },
  {
   "cell_type": "code",
   "execution_count": 7,
   "metadata": {},
   "outputs": [],
   "source": [
    "def DecryptMessage_2(privateKey_hex, encrypted_hex):\n",
    "    if privateKey_hex[:2]=='0x':\n",
    "        privateKey_hex=privateKey_hex[2:]\n",
    "    if encrypted_hex[:2]=='0x':\n",
    "        encrypted_hex=encrypted_hex[2:]\n",
    "\n",
    "    # get the components \n",
    "    encrypted = bytearray.fromhex(encrypted_hex)\n",
    "    iv = encrypted[:16]\n",
    "    ephemPubKeyEncoded = encrypted[17:81]\n",
    "    mac = encrypted[81:113]\n",
    "    ciphertext = encrypted[113:]\n",
    "    \n",
    "    # recover the temporary public key\n",
    "    ephemPubKey = VerifyingKey.from_string(ephemPubKeyEncoded, curve=SECP256k1)\n",
    "    \n",
    "    # load the private key\n",
    "    priv_key = SigningKey.from_secret_exponent(int(privateKey_hex,16), curve=SECP256k1)\n",
    "    ecdh = ECDH(curve=SECP256k1, private_key=priv_key) \n",
    "    \n",
    "    # ECDH => get the shared secret\n",
    "    ecdh.load_received_public_key(ephemPubKey)\n",
    "    px = ecdh.generate_sharedsecret_bytes()\n",
    "\n",
    "    \n",
    "    # compute the encription and MAC keys\n",
    "    hash_px = SHA512.new(data=px).digest()\n",
    "    encryptionKey = hash_px[:32]\n",
    "    macKey = hash_px[32:]\n",
    "    \n",
    "    # check the MAC\n",
    "    dataToMac = iv + bytearray([4])+ephemPubKeyEncoded + ciphertext\n",
    "    computed_mac = hmac.new(macKey, dataToMac, 'sha256').digest()\n",
    "    if computed_mac!=mac:\n",
    "        raise ValueError(\"MAC missmatch\")\n",
    "        \n",
    "    #decipher the text\n",
    "    plaintext = AES256CbcDecrypt(ciphertext.hex(), encryptionKey, iv)\n",
    "    return plaintext.decode(\"utf-8\")\n",
    "    "
   ]
  },
  {
   "cell_type": "code",
   "execution_count": 8,
   "metadata": {},
   "outputs": [
    {
     "name": "stdout",
     "output_type": "stream",
     "text": [
      "PRIV 0x927b92f6a7b6d48b102ec4d2e21595fa6acd2cc56204b910a7ae29db1f6838d4\n",
      "PUB 0x0ae028e1095404fa6ff6dc35994abc99a73fa665792dd82464ad194f83e3ec60bd5b8d8972cfb29adad3cdd9276a8e78543f7f8a96aedc9ec82621fb8da52216\n"
     ]
    }
   ],
   "source": [
    "priv_key_test_2 =bytearray( [146, 123, 146, 246, 167, 182, 212, 139, 16, 46, 196, 210, 226, 21, 149, 250, 106, 205, 44, 197, 98, 4, 185, 16, 167, 174, 41, 219, 31, 104, 56, 212]).hex()\n",
    "print('PRIV 0x'+priv_key_test_2)\n",
    "key = SigningKey.from_secret_exponent(int(priv_key_test_2,16), curve=SECP256k1)\n",
    "pub_key_test_2 = key.get_verifying_key().to_string().hex()\n",
    "print('PUB 0x'+pub_key_test_2)\n"
   ]
  },
  {
   "cell_type": "code",
   "execution_count": 9,
   "metadata": {},
   "outputs": [
    {
     "name": "stdout",
     "output_type": "stream",
     "text": [
      "Message\n"
     ]
    }
   ],
   "source": [
    "enc = EncryptMessage_2(pub_key_test_2,'Message')\n",
    "print(DecryptMessage_2(priv_key_test_2, enc))"
   ]
  },
  {
   "cell_type": "code",
   "execution_count": 10,
   "metadata": {},
   "outputs": [
    {
     "data": {
      "text/plain": [
       "'bd2fd8a62145a973e1da76ad7073919a040c0752114ff20111b058c9a6bcd7b8ac25100ff2467a9b2866fdbbbb707b3803f80620819bb4b54fb2e14d9f99b97b887c2257662382201e8dfb1bb91a495304abe1fde020140fa612609eacb77d6ed21933a2b2cbd725f3f6418dcbb1e27a90fd77411763f2d6e0f11407c5069e71ea'"
      ]
     },
     "execution_count": 10,
     "metadata": {},
     "output_type": "execute_result"
    }
   ],
   "source": [
    "enc"
   ]
  },
  {
   "cell_type": "markdown",
   "metadata": {},
   "source": [
    "# Cross compatibility test"
   ]
  },
  {
   "cell_type": "code",
   "execution_count": 20,
   "metadata": {},
   "outputs": [
    {
     "ename": "MalformedPointError",
     "evalue": "Point does not lie on the curve",
     "output_type": "error",
     "traceback": [
      "\u001b[0;31m---------------------------------------------------------------------------\u001b[0m",
      "\u001b[0;31mInvalidPointError\u001b[0m                         Traceback (most recent call last)",
      "\u001b[0;32m/usr/local/lib/python3.6/site-packages/ecdsa/keys.py\u001b[0m in \u001b[0;36mfrom_public_point\u001b[0;34m(cls, point, curve, hashfunc, validate_point)\u001b[0m\n\u001b[1;32m    183\u001b[0m             self.pubkey = ecdsa.Public_key(curve.generator, point,\n\u001b[0;32m--> 184\u001b[0;31m                                            validate_point)\n\u001b[0m\u001b[1;32m    185\u001b[0m         \u001b[0;32mexcept\u001b[0m \u001b[0mecdsa\u001b[0m\u001b[0;34m.\u001b[0m\u001b[0mInvalidPointError\u001b[0m\u001b[0;34m:\u001b[0m\u001b[0;34m\u001b[0m\u001b[0;34m\u001b[0m\u001b[0m\n",
      "\u001b[0;32m/usr/local/lib/python3.6/site-packages/ecdsa/ecdsa.py\u001b[0m in \u001b[0;36m__init__\u001b[0;34m(self, generator, point, verify)\u001b[0m\n\u001b[1;32m    130\u001b[0m     \u001b[0;32mif\u001b[0m \u001b[0mverify\u001b[0m \u001b[0;32mand\u001b[0m \u001b[0;32mnot\u001b[0m \u001b[0mself\u001b[0m\u001b[0;34m.\u001b[0m\u001b[0mcurve\u001b[0m\u001b[0;34m.\u001b[0m\u001b[0mcontains_point\u001b[0m\u001b[0;34m(\u001b[0m\u001b[0mpoint\u001b[0m\u001b[0;34m.\u001b[0m\u001b[0mx\u001b[0m\u001b[0;34m(\u001b[0m\u001b[0;34m)\u001b[0m\u001b[0;34m,\u001b[0m \u001b[0mpoint\u001b[0m\u001b[0;34m.\u001b[0m\u001b[0my\u001b[0m\u001b[0;34m(\u001b[0m\u001b[0;34m)\u001b[0m\u001b[0;34m)\u001b[0m\u001b[0;34m:\u001b[0m\u001b[0;34m\u001b[0m\u001b[0;34m\u001b[0m\u001b[0m\n\u001b[0;32m--> 131\u001b[0;31m         \u001b[0;32mraise\u001b[0m \u001b[0mInvalidPointError\u001b[0m\u001b[0;34m(\u001b[0m\u001b[0;34m\"Point does not lie on the curve\"\u001b[0m\u001b[0;34m)\u001b[0m\u001b[0;34m\u001b[0m\u001b[0;34m\u001b[0m\u001b[0m\n\u001b[0m\u001b[1;32m    132\u001b[0m     \u001b[0;32mif\u001b[0m \u001b[0;32mnot\u001b[0m \u001b[0mn\u001b[0m\u001b[0;34m:\u001b[0m\u001b[0;34m\u001b[0m\u001b[0;34m\u001b[0m\u001b[0m\n",
      "\u001b[0;31mInvalidPointError\u001b[0m: Point does not lie on the curve",
      "\nDuring handling of the above exception, another exception occurred:\n",
      "\u001b[0;31mMalformedPointError\u001b[0m                       Traceback (most recent call last)",
      "\u001b[0;32m<ipython-input-20-3f3de13d1052>\u001b[0m in \u001b[0;36m<module>\u001b[0;34m()\u001b[0m\n\u001b[1;32m      1\u001b[0m \u001b[0mmessage\u001b[0m \u001b[0;34m=\u001b[0m \u001b[0;34m'test'\u001b[0m\u001b[0;34m\u001b[0m\u001b[0;34m\u001b[0m\u001b[0m\n\u001b[1;32m      2\u001b[0m \u001b[0mencrypted\u001b[0m \u001b[0;34m=\u001b[0m \u001b[0mEncryptMessage_1\u001b[0m\u001b[0;34m(\u001b[0m\u001b[0mpub_key_test_1\u001b[0m\u001b[0;34m,\u001b[0m \u001b[0mmessage\u001b[0m\u001b[0;34m)\u001b[0m\u001b[0;34m\u001b[0m\u001b[0;34m\u001b[0m\u001b[0m\n\u001b[0;32m----> 3\u001b[0;31m \u001b[0mprint\u001b[0m\u001b[0;34m(\u001b[0m\u001b[0mDecryptMessage_2\u001b[0m\u001b[0;34m(\u001b[0m\u001b[0mpriv_key_test_1\u001b[0m\u001b[0;34m,\u001b[0m \u001b[0mencrypted\u001b[0m\u001b[0;34m)\u001b[0m\u001b[0;34m)\u001b[0m\u001b[0;34m\u001b[0m\u001b[0;34m\u001b[0m\u001b[0m\n\u001b[0m",
      "\u001b[0;32m<ipython-input-16-1536fe635d6b>\u001b[0m in \u001b[0;36mDecryptMessage_2\u001b[0;34m(privateKey_hex, encrypted_hex)\u001b[0m\n\u001b[1;32m     13\u001b[0m \u001b[0;34m\u001b[0m\u001b[0m\n\u001b[1;32m     14\u001b[0m     \u001b[0;31m# recover the temporary public key\u001b[0m\u001b[0;34m\u001b[0m\u001b[0;34m\u001b[0m\u001b[0;34m\u001b[0m\u001b[0m\n\u001b[0;32m---> 15\u001b[0;31m     \u001b[0mephemPubKey\u001b[0m \u001b[0;34m=\u001b[0m \u001b[0mVerifyingKey\u001b[0m\u001b[0;34m.\u001b[0m\u001b[0mfrom_string\u001b[0m\u001b[0;34m(\u001b[0m\u001b[0mephemPubKeyEncoded\u001b[0m\u001b[0;34m,\u001b[0m \u001b[0mcurve\u001b[0m\u001b[0;34m=\u001b[0m\u001b[0mSECP256k1\u001b[0m\u001b[0;34m)\u001b[0m\u001b[0;34m\u001b[0m\u001b[0;34m\u001b[0m\u001b[0m\n\u001b[0m\u001b[1;32m     16\u001b[0m \u001b[0;34m\u001b[0m\u001b[0m\n\u001b[1;32m     17\u001b[0m     \u001b[0;31m# load the private key\u001b[0m\u001b[0;34m\u001b[0m\u001b[0;34m\u001b[0m\u001b[0;34m\u001b[0m\u001b[0m\n",
      "\u001b[0;32m/usr/local/lib/python3.6/site-packages/ecdsa/keys.py\u001b[0m in \u001b[0;36mfrom_string\u001b[0;34m(cls, string, curve, hashfunc, validate_point)\u001b[0m\n\u001b[1;32m    304\u001b[0m                 \"curve.\".format(curve.name))\n\u001b[1;32m    305\u001b[0m         return cls.from_public_point(point, curve, hashfunc,\n\u001b[0;32m--> 306\u001b[0;31m                                      validate_point)\n\u001b[0m\u001b[1;32m    307\u001b[0m \u001b[0;34m\u001b[0m\u001b[0m\n\u001b[1;32m    308\u001b[0m     \u001b[0;34m@\u001b[0m\u001b[0mclassmethod\u001b[0m\u001b[0;34m\u001b[0m\u001b[0;34m\u001b[0m\u001b[0m\n",
      "\u001b[0;32m/usr/local/lib/python3.6/site-packages/ecdsa/keys.py\u001b[0m in \u001b[0;36mfrom_public_point\u001b[0;34m(cls, point, curve, hashfunc, validate_point)\u001b[0m\n\u001b[1;32m    184\u001b[0m                                            validate_point)\n\u001b[1;32m    185\u001b[0m         \u001b[0;32mexcept\u001b[0m \u001b[0mecdsa\u001b[0m\u001b[0;34m.\u001b[0m\u001b[0mInvalidPointError\u001b[0m\u001b[0;34m:\u001b[0m\u001b[0;34m\u001b[0m\u001b[0;34m\u001b[0m\u001b[0m\n\u001b[0;32m--> 186\u001b[0;31m             \u001b[0;32mraise\u001b[0m \u001b[0mMalformedPointError\u001b[0m\u001b[0;34m(\u001b[0m\u001b[0;34m\"Point does not lie on the curve\"\u001b[0m\u001b[0;34m)\u001b[0m\u001b[0;34m\u001b[0m\u001b[0;34m\u001b[0m\u001b[0m\n\u001b[0m\u001b[1;32m    187\u001b[0m         \u001b[0mself\u001b[0m\u001b[0;34m.\u001b[0m\u001b[0mpubkey\u001b[0m\u001b[0;34m.\u001b[0m\u001b[0morder\u001b[0m \u001b[0;34m=\u001b[0m \u001b[0mcurve\u001b[0m\u001b[0;34m.\u001b[0m\u001b[0morder\u001b[0m\u001b[0;34m\u001b[0m\u001b[0;34m\u001b[0m\u001b[0m\n\u001b[1;32m    188\u001b[0m         \u001b[0;32mreturn\u001b[0m \u001b[0mself\u001b[0m\u001b[0;34m\u001b[0m\u001b[0;34m\u001b[0m\u001b[0m\n",
      "\u001b[0;31mMalformedPointError\u001b[0m: Point does not lie on the curve"
     ]
    }
   ],
   "source": [
    "message = 'test'\n",
    "encrypted = EncryptMessage_1(pub_key_test_1, message)\n",
    "print(DecryptMessage_2(priv_key_test_1, encrypted))"
   ]
  },
  {
   "cell_type": "code",
   "execution_count": 21,
   "metadata": {},
   "outputs": [
    {
     "ename": "MalformedPointError",
     "evalue": "Point does not lie on the curve",
     "output_type": "error",
     "traceback": [
      "\u001b[0;31m---------------------------------------------------------------------------\u001b[0m",
      "\u001b[0;31mInvalidPointError\u001b[0m                         Traceback (most recent call last)",
      "\u001b[0;32m/usr/local/lib/python3.6/site-packages/ecdsa/keys.py\u001b[0m in \u001b[0;36mfrom_public_point\u001b[0;34m(cls, point, curve, hashfunc, validate_point)\u001b[0m\n\u001b[1;32m    183\u001b[0m             self.pubkey = ecdsa.Public_key(curve.generator, point,\n\u001b[0;32m--> 184\u001b[0;31m                                            validate_point)\n\u001b[0m\u001b[1;32m    185\u001b[0m         \u001b[0;32mexcept\u001b[0m \u001b[0mecdsa\u001b[0m\u001b[0;34m.\u001b[0m\u001b[0mInvalidPointError\u001b[0m\u001b[0;34m:\u001b[0m\u001b[0;34m\u001b[0m\u001b[0;34m\u001b[0m\u001b[0m\n",
      "\u001b[0;32m/usr/local/lib/python3.6/site-packages/ecdsa/ecdsa.py\u001b[0m in \u001b[0;36m__init__\u001b[0;34m(self, generator, point, verify)\u001b[0m\n\u001b[1;32m    130\u001b[0m     \u001b[0;32mif\u001b[0m \u001b[0mverify\u001b[0m \u001b[0;32mand\u001b[0m \u001b[0;32mnot\u001b[0m \u001b[0mself\u001b[0m\u001b[0;34m.\u001b[0m\u001b[0mcurve\u001b[0m\u001b[0;34m.\u001b[0m\u001b[0mcontains_point\u001b[0m\u001b[0;34m(\u001b[0m\u001b[0mpoint\u001b[0m\u001b[0;34m.\u001b[0m\u001b[0mx\u001b[0m\u001b[0;34m(\u001b[0m\u001b[0;34m)\u001b[0m\u001b[0;34m,\u001b[0m \u001b[0mpoint\u001b[0m\u001b[0;34m.\u001b[0m\u001b[0my\u001b[0m\u001b[0;34m(\u001b[0m\u001b[0;34m)\u001b[0m\u001b[0;34m)\u001b[0m\u001b[0;34m:\u001b[0m\u001b[0;34m\u001b[0m\u001b[0;34m\u001b[0m\u001b[0m\n\u001b[0;32m--> 131\u001b[0;31m         \u001b[0;32mraise\u001b[0m \u001b[0mInvalidPointError\u001b[0m\u001b[0;34m(\u001b[0m\u001b[0;34m\"Point does not lie on the curve\"\u001b[0m\u001b[0;34m)\u001b[0m\u001b[0;34m\u001b[0m\u001b[0;34m\u001b[0m\u001b[0m\n\u001b[0m\u001b[1;32m    132\u001b[0m     \u001b[0;32mif\u001b[0m \u001b[0;32mnot\u001b[0m \u001b[0mn\u001b[0m\u001b[0;34m:\u001b[0m\u001b[0;34m\u001b[0m\u001b[0;34m\u001b[0m\u001b[0m\n",
      "\u001b[0;31mInvalidPointError\u001b[0m: Point does not lie on the curve",
      "\nDuring handling of the above exception, another exception occurred:\n",
      "\u001b[0;31mMalformedPointError\u001b[0m                       Traceback (most recent call last)",
      "\u001b[0;32m<ipython-input-21-8b48c24b8428>\u001b[0m in \u001b[0;36m<module>\u001b[0;34m()\u001b[0m\n\u001b[1;32m      1\u001b[0m \u001b[0mencrypted\u001b[0m \u001b[0;34m=\u001b[0m \u001b[0mEncryptMessage_1\u001b[0m\u001b[0;34m(\u001b[0m\u001b[0mpub_key_test_2\u001b[0m\u001b[0;34m,\u001b[0m \u001b[0mmessage\u001b[0m\u001b[0;34m)\u001b[0m\u001b[0;34m\u001b[0m\u001b[0;34m\u001b[0m\u001b[0m\n\u001b[0;32m----> 2\u001b[0;31m \u001b[0mprint\u001b[0m\u001b[0;34m(\u001b[0m\u001b[0mDecryptMessage_2\u001b[0m\u001b[0;34m(\u001b[0m\u001b[0mpriv_key_test_2\u001b[0m\u001b[0;34m,\u001b[0m \u001b[0mencrypted\u001b[0m\u001b[0;34m)\u001b[0m\u001b[0;34m)\u001b[0m\u001b[0;34m\u001b[0m\u001b[0;34m\u001b[0m\u001b[0m\n\u001b[0m",
      "\u001b[0;32m<ipython-input-16-1536fe635d6b>\u001b[0m in \u001b[0;36mDecryptMessage_2\u001b[0;34m(privateKey_hex, encrypted_hex)\u001b[0m\n\u001b[1;32m     13\u001b[0m \u001b[0;34m\u001b[0m\u001b[0m\n\u001b[1;32m     14\u001b[0m     \u001b[0;31m# recover the temporary public key\u001b[0m\u001b[0;34m\u001b[0m\u001b[0;34m\u001b[0m\u001b[0;34m\u001b[0m\u001b[0m\n\u001b[0;32m---> 15\u001b[0;31m     \u001b[0mephemPubKey\u001b[0m \u001b[0;34m=\u001b[0m \u001b[0mVerifyingKey\u001b[0m\u001b[0;34m.\u001b[0m\u001b[0mfrom_string\u001b[0m\u001b[0;34m(\u001b[0m\u001b[0mephemPubKeyEncoded\u001b[0m\u001b[0;34m,\u001b[0m \u001b[0mcurve\u001b[0m\u001b[0;34m=\u001b[0m\u001b[0mSECP256k1\u001b[0m\u001b[0;34m)\u001b[0m\u001b[0;34m\u001b[0m\u001b[0;34m\u001b[0m\u001b[0m\n\u001b[0m\u001b[1;32m     16\u001b[0m \u001b[0;34m\u001b[0m\u001b[0m\n\u001b[1;32m     17\u001b[0m     \u001b[0;31m# load the private key\u001b[0m\u001b[0;34m\u001b[0m\u001b[0;34m\u001b[0m\u001b[0;34m\u001b[0m\u001b[0m\n",
      "\u001b[0;32m/usr/local/lib/python3.6/site-packages/ecdsa/keys.py\u001b[0m in \u001b[0;36mfrom_string\u001b[0;34m(cls, string, curve, hashfunc, validate_point)\u001b[0m\n\u001b[1;32m    304\u001b[0m                 \"curve.\".format(curve.name))\n\u001b[1;32m    305\u001b[0m         return cls.from_public_point(point, curve, hashfunc,\n\u001b[0;32m--> 306\u001b[0;31m                                      validate_point)\n\u001b[0m\u001b[1;32m    307\u001b[0m \u001b[0;34m\u001b[0m\u001b[0m\n\u001b[1;32m    308\u001b[0m     \u001b[0;34m@\u001b[0m\u001b[0mclassmethod\u001b[0m\u001b[0;34m\u001b[0m\u001b[0;34m\u001b[0m\u001b[0m\n",
      "\u001b[0;32m/usr/local/lib/python3.6/site-packages/ecdsa/keys.py\u001b[0m in \u001b[0;36mfrom_public_point\u001b[0;34m(cls, point, curve, hashfunc, validate_point)\u001b[0m\n\u001b[1;32m    184\u001b[0m                                            validate_point)\n\u001b[1;32m    185\u001b[0m         \u001b[0;32mexcept\u001b[0m \u001b[0mecdsa\u001b[0m\u001b[0;34m.\u001b[0m\u001b[0mInvalidPointError\u001b[0m\u001b[0;34m:\u001b[0m\u001b[0;34m\u001b[0m\u001b[0;34m\u001b[0m\u001b[0m\n\u001b[0;32m--> 186\u001b[0;31m             \u001b[0;32mraise\u001b[0m \u001b[0mMalformedPointError\u001b[0m\u001b[0;34m(\u001b[0m\u001b[0;34m\"Point does not lie on the curve\"\u001b[0m\u001b[0;34m)\u001b[0m\u001b[0;34m\u001b[0m\u001b[0;34m\u001b[0m\u001b[0m\n\u001b[0m\u001b[1;32m    187\u001b[0m         \u001b[0mself\u001b[0m\u001b[0;34m.\u001b[0m\u001b[0mpubkey\u001b[0m\u001b[0;34m.\u001b[0m\u001b[0morder\u001b[0m \u001b[0;34m=\u001b[0m \u001b[0mcurve\u001b[0m\u001b[0;34m.\u001b[0m\u001b[0morder\u001b[0m\u001b[0;34m\u001b[0m\u001b[0;34m\u001b[0m\u001b[0m\n\u001b[1;32m    188\u001b[0m         \u001b[0;32mreturn\u001b[0m \u001b[0mself\u001b[0m\u001b[0;34m\u001b[0m\u001b[0;34m\u001b[0m\u001b[0m\n",
      "\u001b[0;31mMalformedPointError\u001b[0m: Point does not lie on the curve"
     ]
    }
   ],
   "source": [
    "encrypted = EncryptMessage_1(pub_key_test_2, message)\n",
    "print(DecryptMessage_2(priv_key_test_2, encrypted))"
   ]
  },
  {
   "cell_type": "code",
   "execution_count": 22,
   "metadata": {},
   "outputs": [
    {
     "ename": "ValueError",
     "evalue": "MAC missmatch",
     "output_type": "error",
     "traceback": [
      "\u001b[0;31m---------------------------------------------------------------------------\u001b[0m",
      "\u001b[0;31mValueError\u001b[0m                                Traceback (most recent call last)",
      "\u001b[0;32m<ipython-input-22-673a4857733d>\u001b[0m in \u001b[0;36m<module>\u001b[0;34m()\u001b[0m\n\u001b[1;32m      1\u001b[0m \u001b[0mmessage\u001b[0m \u001b[0;34m=\u001b[0m \u001b[0;34m'test'\u001b[0m\u001b[0;34m\u001b[0m\u001b[0;34m\u001b[0m\u001b[0m\n\u001b[1;32m      2\u001b[0m \u001b[0mEncryptMessage_2\u001b[0m\u001b[0;34m(\u001b[0m\u001b[0mpub_key_test_2\u001b[0m\u001b[0;34m,\u001b[0m \u001b[0mmessage\u001b[0m\u001b[0;34m)\u001b[0m\u001b[0;34m\u001b[0m\u001b[0;34m\u001b[0m\u001b[0m\n\u001b[0;32m----> 3\u001b[0;31m \u001b[0mprint\u001b[0m\u001b[0;34m(\u001b[0m\u001b[0mDecryptMessage_1\u001b[0m\u001b[0;34m(\u001b[0m\u001b[0mpriv_key_test_2\u001b[0m\u001b[0;34m,\u001b[0m \u001b[0mencrypted\u001b[0m\u001b[0;34m)\u001b[0m\u001b[0;34m)\u001b[0m\u001b[0;34m\u001b[0m\u001b[0;34m\u001b[0m\u001b[0m\n\u001b[0m",
      "\u001b[0;32m<ipython-input-11-83e7c9c38bf3>\u001b[0m in \u001b[0;36mDecryptMessage_1\u001b[0;34m(privateKey_hey, encrypted_hex)\u001b[0m\n\u001b[1;32m     30\u001b[0m     \u001b[0mcomputed_mac\u001b[0m \u001b[0;34m=\u001b[0m \u001b[0mhmac\u001b[0m\u001b[0;34m.\u001b[0m\u001b[0mnew\u001b[0m\u001b[0;34m(\u001b[0m\u001b[0mmacKey\u001b[0m\u001b[0;34m,\u001b[0m \u001b[0mdataToMac\u001b[0m\u001b[0;34m,\u001b[0m \u001b[0;34m'sha256'\u001b[0m\u001b[0;34m)\u001b[0m\u001b[0;34m.\u001b[0m\u001b[0mdigest\u001b[0m\u001b[0;34m(\u001b[0m\u001b[0;34m)\u001b[0m\u001b[0;34m\u001b[0m\u001b[0;34m\u001b[0m\u001b[0m\n\u001b[1;32m     31\u001b[0m     \u001b[0;32mif\u001b[0m \u001b[0mcomputed_mac\u001b[0m\u001b[0;34m!=\u001b[0m\u001b[0mmac\u001b[0m\u001b[0;34m:\u001b[0m\u001b[0;34m\u001b[0m\u001b[0;34m\u001b[0m\u001b[0m\n\u001b[0;32m---> 32\u001b[0;31m         \u001b[0;32mraise\u001b[0m \u001b[0mValueError\u001b[0m\u001b[0;34m(\u001b[0m\u001b[0;34m\"MAC missmatch\"\u001b[0m\u001b[0;34m)\u001b[0m\u001b[0;34m\u001b[0m\u001b[0;34m\u001b[0m\u001b[0m\n\u001b[0m\u001b[1;32m     33\u001b[0m \u001b[0;34m\u001b[0m\u001b[0m\n\u001b[1;32m     34\u001b[0m     \u001b[0;31m#decipher the text\u001b[0m\u001b[0;34m\u001b[0m\u001b[0;34m\u001b[0m\u001b[0;34m\u001b[0m\u001b[0m\n",
      "\u001b[0;31mValueError\u001b[0m: MAC missmatch"
     ]
    }
   ],
   "source": [
    "message = 'test'\n",
    "EncryptMessage_2(pub_key_test_2, message)\n",
    "print(DecryptMessage_1(priv_key_test_2, encrypted))"
   ]
  },
  {
   "cell_type": "code",
   "execution_count": 23,
   "metadata": {},
   "outputs": [
    {
     "ename": "MalformedPointError",
     "evalue": "Point does not lie on the curve",
     "output_type": "error",
     "traceback": [
      "\u001b[0;31m---------------------------------------------------------------------------\u001b[0m",
      "\u001b[0;31mInvalidPointError\u001b[0m                         Traceback (most recent call last)",
      "\u001b[0;32m/usr/local/lib/python3.6/site-packages/ecdsa/keys.py\u001b[0m in \u001b[0;36mfrom_public_point\u001b[0;34m(cls, point, curve, hashfunc, validate_point)\u001b[0m\n\u001b[1;32m    183\u001b[0m             self.pubkey = ecdsa.Public_key(curve.generator, point,\n\u001b[0;32m--> 184\u001b[0;31m                                            validate_point)\n\u001b[0m\u001b[1;32m    185\u001b[0m         \u001b[0;32mexcept\u001b[0m \u001b[0mecdsa\u001b[0m\u001b[0;34m.\u001b[0m\u001b[0mInvalidPointError\u001b[0m\u001b[0;34m:\u001b[0m\u001b[0;34m\u001b[0m\u001b[0;34m\u001b[0m\u001b[0m\n",
      "\u001b[0;32m/usr/local/lib/python3.6/site-packages/ecdsa/ecdsa.py\u001b[0m in \u001b[0;36m__init__\u001b[0;34m(self, generator, point, verify)\u001b[0m\n\u001b[1;32m    130\u001b[0m     \u001b[0;32mif\u001b[0m \u001b[0mverify\u001b[0m \u001b[0;32mand\u001b[0m \u001b[0;32mnot\u001b[0m \u001b[0mself\u001b[0m\u001b[0;34m.\u001b[0m\u001b[0mcurve\u001b[0m\u001b[0;34m.\u001b[0m\u001b[0mcontains_point\u001b[0m\u001b[0;34m(\u001b[0m\u001b[0mpoint\u001b[0m\u001b[0;34m.\u001b[0m\u001b[0mx\u001b[0m\u001b[0;34m(\u001b[0m\u001b[0;34m)\u001b[0m\u001b[0;34m,\u001b[0m \u001b[0mpoint\u001b[0m\u001b[0;34m.\u001b[0m\u001b[0my\u001b[0m\u001b[0;34m(\u001b[0m\u001b[0;34m)\u001b[0m\u001b[0;34m)\u001b[0m\u001b[0;34m:\u001b[0m\u001b[0;34m\u001b[0m\u001b[0;34m\u001b[0m\u001b[0m\n\u001b[0;32m--> 131\u001b[0;31m         \u001b[0;32mraise\u001b[0m \u001b[0mInvalidPointError\u001b[0m\u001b[0;34m(\u001b[0m\u001b[0;34m\"Point does not lie on the curve\"\u001b[0m\u001b[0;34m)\u001b[0m\u001b[0;34m\u001b[0m\u001b[0;34m\u001b[0m\u001b[0m\n\u001b[0m\u001b[1;32m    132\u001b[0m     \u001b[0;32mif\u001b[0m \u001b[0;32mnot\u001b[0m \u001b[0mn\u001b[0m\u001b[0;34m:\u001b[0m\u001b[0;34m\u001b[0m\u001b[0;34m\u001b[0m\u001b[0m\n",
      "\u001b[0;31mInvalidPointError\u001b[0m: Point does not lie on the curve",
      "\nDuring handling of the above exception, another exception occurred:\n",
      "\u001b[0;31mMalformedPointError\u001b[0m                       Traceback (most recent call last)",
      "\u001b[0;32m<ipython-input-23-b333c305df06>\u001b[0m in \u001b[0;36m<module>\u001b[0;34m()\u001b[0m\n\u001b[1;32m      1\u001b[0m \u001b[0mmessage\u001b[0m \u001b[0;34m=\u001b[0m \u001b[0;34m'test'\u001b[0m\u001b[0;34m\u001b[0m\u001b[0;34m\u001b[0m\u001b[0m\n\u001b[0;32m----> 2\u001b[0;31m \u001b[0mEncryptMessage_2\u001b[0m\u001b[0;34m(\u001b[0m\u001b[0mpub_key_test_1\u001b[0m\u001b[0;34m,\u001b[0m \u001b[0mmessage\u001b[0m\u001b[0;34m)\u001b[0m\u001b[0;34m\u001b[0m\u001b[0;34m\u001b[0m\u001b[0m\n\u001b[0m\u001b[1;32m      3\u001b[0m \u001b[0mprint\u001b[0m\u001b[0;34m(\u001b[0m\u001b[0mDecryptMessage_1\u001b[0m\u001b[0;34m(\u001b[0m\u001b[0mpriv_key_test_1\u001b[0m\u001b[0;34m,\u001b[0m \u001b[0mencrypted\u001b[0m\u001b[0;34m)\u001b[0m\u001b[0;34m)\u001b[0m\u001b[0;34m\u001b[0m\u001b[0;34m\u001b[0m\u001b[0m\n",
      "\u001b[0;32m<ipython-input-15-0c13a99b065c>\u001b[0m in \u001b[0;36mEncryptMessage_2\u001b[0;34m(publicKey_hex, plainText_string)\u001b[0m\n\u001b[1;32m     11\u001b[0m \u001b[0;34m\u001b[0m\u001b[0m\n\u001b[1;32m     12\u001b[0m     \u001b[0;31m# Load the public key\u001b[0m\u001b[0;34m\u001b[0m\u001b[0;34m\u001b[0m\u001b[0;34m\u001b[0m\u001b[0m\n\u001b[0;32m---> 13\u001b[0;31m     \u001b[0mpublicKey\u001b[0m \u001b[0;34m=\u001b[0m \u001b[0mVerifyingKey\u001b[0m\u001b[0;34m.\u001b[0m\u001b[0mfrom_string\u001b[0m\u001b[0;34m(\u001b[0m\u001b[0mpublicKey_bin\u001b[0m\u001b[0;34m,\u001b[0m \u001b[0mcurve\u001b[0m\u001b[0;34m=\u001b[0m\u001b[0mSECP256k1\u001b[0m\u001b[0;34m)\u001b[0m\u001b[0;34m\u001b[0m\u001b[0;34m\u001b[0m\u001b[0m\n\u001b[0m\u001b[1;32m     14\u001b[0m \u001b[0;34m\u001b[0m\u001b[0m\n\u001b[1;32m     15\u001b[0m     \u001b[0;31m# ECDH => get the shared secret\u001b[0m\u001b[0;34m\u001b[0m\u001b[0;34m\u001b[0m\u001b[0;34m\u001b[0m\u001b[0m\n",
      "\u001b[0;32m/usr/local/lib/python3.6/site-packages/ecdsa/keys.py\u001b[0m in \u001b[0;36mfrom_string\u001b[0;34m(cls, string, curve, hashfunc, validate_point)\u001b[0m\n\u001b[1;32m    304\u001b[0m                 \"curve.\".format(curve.name))\n\u001b[1;32m    305\u001b[0m         return cls.from_public_point(point, curve, hashfunc,\n\u001b[0;32m--> 306\u001b[0;31m                                      validate_point)\n\u001b[0m\u001b[1;32m    307\u001b[0m \u001b[0;34m\u001b[0m\u001b[0m\n\u001b[1;32m    308\u001b[0m     \u001b[0;34m@\u001b[0m\u001b[0mclassmethod\u001b[0m\u001b[0;34m\u001b[0m\u001b[0;34m\u001b[0m\u001b[0m\n",
      "\u001b[0;32m/usr/local/lib/python3.6/site-packages/ecdsa/keys.py\u001b[0m in \u001b[0;36mfrom_public_point\u001b[0;34m(cls, point, curve, hashfunc, validate_point)\u001b[0m\n\u001b[1;32m    184\u001b[0m                                            validate_point)\n\u001b[1;32m    185\u001b[0m         \u001b[0;32mexcept\u001b[0m \u001b[0mecdsa\u001b[0m\u001b[0;34m.\u001b[0m\u001b[0mInvalidPointError\u001b[0m\u001b[0;34m:\u001b[0m\u001b[0;34m\u001b[0m\u001b[0;34m\u001b[0m\u001b[0m\n\u001b[0;32m--> 186\u001b[0;31m             \u001b[0;32mraise\u001b[0m \u001b[0mMalformedPointError\u001b[0m\u001b[0;34m(\u001b[0m\u001b[0;34m\"Point does not lie on the curve\"\u001b[0m\u001b[0;34m)\u001b[0m\u001b[0;34m\u001b[0m\u001b[0;34m\u001b[0m\u001b[0m\n\u001b[0m\u001b[1;32m    187\u001b[0m         \u001b[0mself\u001b[0m\u001b[0;34m.\u001b[0m\u001b[0mpubkey\u001b[0m\u001b[0;34m.\u001b[0m\u001b[0morder\u001b[0m \u001b[0;34m=\u001b[0m \u001b[0mcurve\u001b[0m\u001b[0;34m.\u001b[0m\u001b[0morder\u001b[0m\u001b[0;34m\u001b[0m\u001b[0;34m\u001b[0m\u001b[0m\n\u001b[1;32m    188\u001b[0m         \u001b[0;32mreturn\u001b[0m \u001b[0mself\u001b[0m\u001b[0;34m\u001b[0m\u001b[0;34m\u001b[0m\u001b[0m\n",
      "\u001b[0;31mMalformedPointError\u001b[0m: Point does not lie on the curve"
     ]
    }
   ],
   "source": [
    "message = 'test'\n",
    "EncryptMessage_2(pub_key_test_1, message)\n",
    "print(DecryptMessage_1(priv_key_test_1, encrypted))"
   ]
  },
  {
   "cell_type": "markdown",
   "metadata": {},
   "source": [
    "# Crosscompatibility with JS"
   ]
  },
  {
   "cell_type": "code",
   "execution_count": 24,
   "metadata": {},
   "outputs": [],
   "source": [
    "private_JS_key  = bytearray( [116, 88, 207, 180, 148, 187, 167, 192, 59, 179, 153, 112, 164, 79, 236, 124, 90, 133, 130, 104, 97, 225, 49, 171, 185, 152, 115, 253, 143, 230, 77, 175]).hex()\n",
    "pub_JS_key = bytearray([49, 176, 0, 75, 20, 225, 173, 169, 33, 197, 161, 167, 157, 12, 19, 37, 23, 114, 136, 233, 30, 191, 97, 191, 185, 24, 56, 152, 204, 69, 251, 52, 40, 109, 251, 14, 100, 245, 14, 56, 218, 217, 19, 70, 54, 192, 92, 19, 123, 11, 113, 69, 191, 171, 184, 218, 27, 138, 184, 36, 19, 28, 7, 164]).hex()\n",
    "message_js_1 = \"910df89676fecef464796ae011e224410449db12c818e33511c4341d16768e5ac62a6c4cc9913ecfc7e3de0f7bf7d1a68b95957c69c33d4b118dd21b105097ed7bb7f124915c510fa842f7c1570af6cfe548ba80ec2bd31cb26cf471a04d555a6c0ead4e5f367425ec2f22de5dc429fc1a653c54c24281165fb5db4fab6214af7f\" \n",
    "message_js_2 = \"b865cbd5f22ece7f568396dddcd9d45604c54c83c7447069c52bf59b686d0c4e6b511c22b24263b91ffd7d23da47eb3bd027d0684da8a06c1fd3a37aaf64fe9f6c180d1a5056cb11f1c7fae252d8232c182dbf3f89012af62c8afa4e83de656a996cdd996cf930b25e80ec4ff6f843694e8ac9fec521da9c8f0ab16765e04d136e\""
   ]
  },
  {
   "cell_type": "code",
   "execution_count": 25,
   "metadata": {},
   "outputs": [
    {
     "ename": "ValueError",
     "evalue": "MAC missmatch",
     "output_type": "error",
     "traceback": [
      "\u001b[0;31m---------------------------------------------------------------------------\u001b[0m",
      "\u001b[0;31mValueError\u001b[0m                                Traceback (most recent call last)",
      "\u001b[0;32m<ipython-input-25-c35121668ecd>\u001b[0m in \u001b[0;36m<module>\u001b[0;34m()\u001b[0m\n\u001b[1;32m      1\u001b[0m \u001b[0menc\u001b[0m \u001b[0;34m=\u001b[0m \u001b[0mEncryptMessage_1\u001b[0m\u001b[0;34m(\u001b[0m\u001b[0mpub_JS_key\u001b[0m\u001b[0;34m,\u001b[0m\u001b[0;34m'Message'\u001b[0m\u001b[0;34m)\u001b[0m\u001b[0;34m\u001b[0m\u001b[0;34m\u001b[0m\u001b[0m\n\u001b[0;32m----> 2\u001b[0;31m \u001b[0mprint\u001b[0m\u001b[0;34m(\u001b[0m\u001b[0mDecryptMessage_1\u001b[0m\u001b[0;34m(\u001b[0m\u001b[0mprivate_JS_key\u001b[0m\u001b[0;34m,\u001b[0m \u001b[0menc\u001b[0m\u001b[0;34m)\u001b[0m\u001b[0;34m)\u001b[0m\u001b[0;34m\u001b[0m\u001b[0;34m\u001b[0m\u001b[0m\n\u001b[0m",
      "\u001b[0;32m<ipython-input-11-83e7c9c38bf3>\u001b[0m in \u001b[0;36mDecryptMessage_1\u001b[0;34m(privateKey_hey, encrypted_hex)\u001b[0m\n\u001b[1;32m     30\u001b[0m     \u001b[0mcomputed_mac\u001b[0m \u001b[0;34m=\u001b[0m \u001b[0mhmac\u001b[0m\u001b[0;34m.\u001b[0m\u001b[0mnew\u001b[0m\u001b[0;34m(\u001b[0m\u001b[0mmacKey\u001b[0m\u001b[0;34m,\u001b[0m \u001b[0mdataToMac\u001b[0m\u001b[0;34m,\u001b[0m \u001b[0;34m'sha256'\u001b[0m\u001b[0;34m)\u001b[0m\u001b[0;34m.\u001b[0m\u001b[0mdigest\u001b[0m\u001b[0;34m(\u001b[0m\u001b[0;34m)\u001b[0m\u001b[0;34m\u001b[0m\u001b[0;34m\u001b[0m\u001b[0m\n\u001b[1;32m     31\u001b[0m     \u001b[0;32mif\u001b[0m \u001b[0mcomputed_mac\u001b[0m\u001b[0;34m!=\u001b[0m\u001b[0mmac\u001b[0m\u001b[0;34m:\u001b[0m\u001b[0;34m\u001b[0m\u001b[0;34m\u001b[0m\u001b[0m\n\u001b[0;32m---> 32\u001b[0;31m         \u001b[0;32mraise\u001b[0m \u001b[0mValueError\u001b[0m\u001b[0;34m(\u001b[0m\u001b[0;34m\"MAC missmatch\"\u001b[0m\u001b[0;34m)\u001b[0m\u001b[0;34m\u001b[0m\u001b[0;34m\u001b[0m\u001b[0m\n\u001b[0m\u001b[1;32m     33\u001b[0m \u001b[0;34m\u001b[0m\u001b[0m\n\u001b[1;32m     34\u001b[0m     \u001b[0;31m#decipher the text\u001b[0m\u001b[0;34m\u001b[0m\u001b[0;34m\u001b[0m\u001b[0;34m\u001b[0m\u001b[0m\n",
      "\u001b[0;31mValueError\u001b[0m: MAC missmatch"
     ]
    }
   ],
   "source": [
    "enc = EncryptMessage_1(pub_JS_key,'Message')\n",
    "print(DecryptMessage_1(private_JS_key, enc))"
   ]
  },
  {
   "cell_type": "code",
   "execution_count": 26,
   "metadata": {},
   "outputs": [
    {
     "name": "stdout",
     "output_type": "stream",
     "text": [
      "Message\n"
     ]
    }
   ],
   "source": [
    "enc = EncryptMessage_2(pub_JS_key,'Message')\n",
    "print(DecryptMessage_2(private_JS_key, enc))"
   ]
  },
  {
   "cell_type": "code",
   "execution_count": 27,
   "metadata": {},
   "outputs": [
    {
     "ename": "ValueError",
     "evalue": "MAC missmatch",
     "output_type": "error",
     "traceback": [
      "\u001b[0;31m---------------------------------------------------------------------------\u001b[0m",
      "\u001b[0;31mValueError\u001b[0m                                Traceback (most recent call last)",
      "\u001b[0;32m<ipython-input-27-7fc81b02947f>\u001b[0m in \u001b[0;36m<module>\u001b[0;34m()\u001b[0m\n\u001b[0;32m----> 1\u001b[0;31m \u001b[0mDecryptMessage_1\u001b[0m\u001b[0;34m(\u001b[0m\u001b[0mprivate_JS_key\u001b[0m\u001b[0;34m,\u001b[0m \u001b[0mmessage_js_2\u001b[0m\u001b[0;34m)\u001b[0m\u001b[0;34m\u001b[0m\u001b[0;34m\u001b[0m\u001b[0m\n\u001b[0m",
      "\u001b[0;32m<ipython-input-11-83e7c9c38bf3>\u001b[0m in \u001b[0;36mDecryptMessage_1\u001b[0;34m(privateKey_hey, encrypted_hex)\u001b[0m\n\u001b[1;32m     30\u001b[0m     \u001b[0mcomputed_mac\u001b[0m \u001b[0;34m=\u001b[0m \u001b[0mhmac\u001b[0m\u001b[0;34m.\u001b[0m\u001b[0mnew\u001b[0m\u001b[0;34m(\u001b[0m\u001b[0mmacKey\u001b[0m\u001b[0;34m,\u001b[0m \u001b[0mdataToMac\u001b[0m\u001b[0;34m,\u001b[0m \u001b[0;34m'sha256'\u001b[0m\u001b[0;34m)\u001b[0m\u001b[0;34m.\u001b[0m\u001b[0mdigest\u001b[0m\u001b[0;34m(\u001b[0m\u001b[0;34m)\u001b[0m\u001b[0;34m\u001b[0m\u001b[0;34m\u001b[0m\u001b[0m\n\u001b[1;32m     31\u001b[0m     \u001b[0;32mif\u001b[0m \u001b[0mcomputed_mac\u001b[0m\u001b[0;34m!=\u001b[0m\u001b[0mmac\u001b[0m\u001b[0;34m:\u001b[0m\u001b[0;34m\u001b[0m\u001b[0;34m\u001b[0m\u001b[0m\n\u001b[0;32m---> 32\u001b[0;31m         \u001b[0;32mraise\u001b[0m \u001b[0mValueError\u001b[0m\u001b[0;34m(\u001b[0m\u001b[0;34m\"MAC missmatch\"\u001b[0m\u001b[0;34m)\u001b[0m\u001b[0;34m\u001b[0m\u001b[0;34m\u001b[0m\u001b[0m\n\u001b[0m\u001b[1;32m     33\u001b[0m \u001b[0;34m\u001b[0m\u001b[0m\n\u001b[1;32m     34\u001b[0m     \u001b[0;31m#decipher the text\u001b[0m\u001b[0;34m\u001b[0m\u001b[0;34m\u001b[0m\u001b[0;34m\u001b[0m\u001b[0m\n",
      "\u001b[0;31mValueError\u001b[0m: MAC missmatch"
     ]
    }
   ],
   "source": [
    "DecryptMessage_1(private_JS_key, message_js_2)"
   ]
  },
  {
   "cell_type": "code",
   "execution_count": 29,
   "metadata": {},
   "outputs": [
    {
     "name": "stdout",
     "output_type": "stream",
     "text": [
      "test split\n",
      "Message\n"
     ]
    }
   ],
   "source": [
    "print(DecryptMessage_2(private_JS_key, message_js_1))\n",
    "print(DecryptMessage_2(private_JS_key, message_js_2))"
   ]
  }
 ],
 "metadata": {
  "kernelspec": {
   "display_name": "Python 3",
   "language": "python",
   "name": "python3"
  },
  "language_info": {
   "codemirror_mode": {
    "name": "ipython",
    "version": 3
   },
   "file_extension": ".py",
   "mimetype": "text/x-python",
   "name": "python",
   "nbconvert_exporter": "python",
   "pygments_lexer": "ipython3",
   "version": "3.6.8"
  }
 },
 "nbformat": 4,
 "nbformat_minor": 2
}
